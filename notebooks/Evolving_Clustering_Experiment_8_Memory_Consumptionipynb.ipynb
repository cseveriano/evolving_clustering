{
  "nbformat": 4,
  "nbformat_minor": 0,
  "metadata": {
    "colab": {
      "name": "20191218 - Evolving Clustering - Memory Consumption.ipynb",
      "provenance": []
    },
    "kernelspec": {
      "name": "python3",
      "display_name": "Python 3"
    },
    "accelerator": "TPU"
  },
  "cells": [
    {
      "cell_type": "markdown",
      "metadata": {
        "id": "vHTv_LgnF1dL",
        "colab_type": "text"
      },
      "source": [
        "## Data Processing Comparison\n",
        "\n",
        "Comparison between\n",
        "* DenStream\n",
        "* CluStream\n",
        "* microTEDAClus"
      ]
    },
    {
      "cell_type": "code",
      "metadata": {
        "id": "krmYO-u0wkSD",
        "colab_type": "code",
        "colab": {}
      },
      "source": [
        "path = \"/content/gdrive/My Drive/Evolving_Results/major_review/Final/\"\n",
        "from google.colab import drive\n",
        "drive.mount(\"/content/gdrive\")"
      ],
      "execution_count": 0,
      "outputs": []
    },
    {
      "cell_type": "markdown",
      "metadata": {
        "id": "EwvTVjboGJtx",
        "colab_type": "text"
      },
      "source": [
        "### Import Python Libraries"
      ]
    },
    {
      "cell_type": "code",
      "metadata": {
        "id": "pYDGn6lVoE6y",
        "colab_type": "code",
        "colab": {}
      },
      "source": [
        "!pip install -U git+https://github.com/cseveriano/evolving_clustering@prune-cluster\n",
        "!pip install numba"
      ],
      "execution_count": 0,
      "outputs": []
    },
    {
      "cell_type": "code",
      "metadata": {
        "id": "8F8vzxRsn9HL",
        "colab_type": "code",
        "colab": {}
      },
      "source": [
        "import importlib\n",
        "importlib.reload(EvolvingClustering)"
      ],
      "execution_count": 0,
      "outputs": []
    },
    {
      "cell_type": "code",
      "metadata": {
        "id": "NrdlXHs7GMvz",
        "colab_type": "code",
        "colab": {}
      },
      "source": [
        "!pip install -U git+https://github.com/cseveriano/evolving_clustering\n",
        "!pip install numba"
      ],
      "execution_count": 0,
      "outputs": []
    },
    {
      "cell_type": "code",
      "metadata": {
        "id": "QrAsTI8FGO9C",
        "colab_type": "code",
        "colab": {}
      },
      "source": [
        "import pandas as pd\n",
        "import numpy as np\n",
        "import matplotlib.pyplot as plt\n",
        "from sklearn.metrics import adjusted_rand_score\n",
        "from sklearn import datasets\n",
        "from sklearn import preprocessing\n",
        "import time\n",
        "\n",
        "from benchmarks.denstream.DenStream import DenStream\n",
        "from benchmarks.clustream.CluStream import CluStream\n",
        "from evolving import EvolvingClustering\n",
        "from evolving import Benchmarks"
      ],
      "execution_count": 0,
      "outputs": []
    },
    {
      "cell_type": "markdown",
      "metadata": {
        "id": "-WNUcD8NGQ5X",
        "colab_type": "text"
      },
      "source": [
        "## Load Stream Dataset"
      ]
    },
    {
      "cell_type": "markdown",
      "metadata": {
        "id": "KxgD21D4FTty",
        "colab_type": "text"
      },
      "source": [
        "### Load Stream Gaussian"
      ]
    },
    {
      "cell_type": "code",
      "metadata": {
        "id": "hbQjJHNSFWVG",
        "colab_type": "code",
        "colab": {}
      },
      "source": [
        "#@title\n",
        "!apt-get update\n",
        "!apt-get install r-base\n",
        "!pip install rpy2\n",
        "!apt-get install libmagick++-dev\n",
        "#!apt-get install r-cran-rjava\n",
        "\n",
        "import os       #importing os to set environment variable\n",
        "def install_java():\n",
        "  !apt-get install -y openjdk-8-jdk-headless -qq > /dev/null      #install openjdk\n",
        "  os.environ[\"JAVA_HOME\"] = \"/usr/lib/jvm/java-8-openjdk-amd64\"     #set environment variable\n",
        "  os.environ[\"LD_LIBRARY_PATH\"] = \"/usr/lib/jvm/java-8-openjdk-amd64/jre/lib/amd64:/usr/lib/jvm/java-8-openjdk-amd64/jre/lib/amd64/server\"\n",
        "  !java -version       #check java version\n",
        "\n",
        "install_java()\n",
        "\n",
        "!R CMD javareconf\n",
        "\n",
        "#!apt-get install r-cran-rjava\n",
        "#!apt-get install libgdal-dev libproj-dev\n",
        "\n",
        "!R -e 'install.packages(c(\"magick\",  \"animation\", \"stream\", \"rJava\", \"streamMOA\"))'"
      ],
      "execution_count": 0,
      "outputs": []
    },
    {
      "cell_type": "code",
      "metadata": {
        "id": "mhBowbcOFdEd",
        "colab_type": "code",
        "colab": {}
      },
      "source": [
        "%load_ext rpy2.ipython"
      ],
      "execution_count": 0,
      "outputs": []
    },
    {
      "cell_type": "code",
      "metadata": {
        "id": "5TFf6MWLFfBo",
        "colab_type": "code",
        "colab": {}
      },
      "source": [
        "%%R\n",
        "dyn.load(\"/usr/lib/jvm/java-8-openjdk-amd64/jre/lib/amd64/server/libjvm.so\")\n",
        "library(\"stream\")\n",
        "library(\"streamMOA\")"
      ],
      "execution_count": 0,
      "outputs": []
    },
    {
      "cell_type": "code",
      "metadata": {
        "id": "Tofu_BMZFmYn",
        "colab_type": "code",
        "colab": {}
      },
      "source": [
        "import rpy2.robjects as robjects\n",
        "from rpy2.robjects import pandas2ri\n",
        "pandas2ri.activate()\n",
        "r = robjects.r"
      ],
      "execution_count": 0,
      "outputs": []
    },
    {
      "cell_type": "code",
      "metadata": {
        "id": "HPc8yM-AFhar",
        "colab_type": "code",
        "colab": {}
      },
      "source": [
        "%%R\n",
        "\n",
        "gaussian_data_generator <- function(dimension, nsamples){\n",
        "  stream <- DSD_Gaussians(k=3, d=dimension)\n",
        "  return (get_points(stream, n = nsamples, class = TRUE))\n",
        "}"
      ],
      "execution_count": 0,
      "outputs": []
    },
    {
      "cell_type": "code",
      "metadata": {
        "id": "qoYPCWXfFqSr",
        "colab_type": "code",
        "colab": {}
      },
      "source": [
        "nsamples = 4000\n",
        "window_size = 100\n",
        "train_size = 100\n",
        "dims = 50\n",
        "exp_name = \"stream_gaussian\"\n",
        "\n",
        "stream_df = pandas2ri.ri2py_dataframe(r.gaussian_data_generator(dims, nsamples))\n",
        "X_columns = stream_df.columns[:-1]\n",
        "X = stream_df[X_columns].values\n",
        "y = stream_df['class'].values\n",
        "X = preprocessing.scale(X)\n",
        "minmaxscaler = preprocessing.MinMaxScaler()\n",
        "minmaxscaler.fit(X)\n",
        "X = minmaxscaler.transform(X)"
      ],
      "execution_count": 0,
      "outputs": []
    },
    {
      "cell_type": "markdown",
      "metadata": {
        "id": "Ht3ln49aHun3",
        "colab_type": "text"
      },
      "source": [
        "### Parameter Tuning"
      ]
    },
    {
      "cell_type": "code",
      "metadata": {
        "id": "U9r4pUp1Hx-L",
        "colab_type": "code",
        "colab": {}
      },
      "source": [
        "tuning_size = window_size\n",
        "def fit_predict(method, data, labels, window_size, metric):\n",
        "        train_data = data[:window_size]\n",
        "        test_data = data[window_size:(window_size*2)]\n",
        "\n",
        "        method.fit(train_data)\n",
        "        y_hat = method.predict(test_data)\n",
        "        y = labels[window_size:(window_size*2)]\n",
        "\n",
        "        return metric(y, y_hat)\n"
      ],
      "execution_count": 0,
      "outputs": []
    },
    {
      "cell_type": "markdown",
      "metadata": {
        "id": "r5VtqSC2L3U0",
        "colab_type": "text"
      },
      "source": [
        "### Evolving"
      ]
    },
    {
      "cell_type": "code",
      "metadata": {
        "id": "btQ3wfOKL5PA",
        "colab_type": "code",
        "cellView": "both",
        "colab": {}
      },
      "source": [
        "#@title\n",
        "def clustering_objective(params):\n",
        "  print(params)\n",
        "\n",
        "  try:\n",
        "    evol_model = EvolvingClustering.EvolvingClustering(variance_limit=params['variance_limit'], debug=False)\n",
        "    error = fit_predict(evol_model, X, y, tuning_size, adjusted_rand_score)\n",
        "  except Exception:\n",
        "    traceback.print_exc()\n",
        "    error = -1\n",
        "\n",
        "  return {'loss': -error, 'status': STATUS_OK}"
      ],
      "execution_count": 0,
      "outputs": []
    },
    {
      "cell_type": "code",
      "metadata": {
        "id": "Iy6aPZ05MD3V",
        "colab_type": "code",
        "colab": {}
      },
      "source": [
        "from hyperopt import fmin, tpe, hp, STATUS_OK, Trials\n",
        "from hyperopt import space_eval\n",
        "import itertools\n",
        "import traceback\n",
        "\n",
        "###### OPTIMIZATION ROUTINES ###########\n",
        "l1 = list(np.arange(0.1,1,0.1))\n",
        "l2 = list(np.arange(0.01,0.1,0.01))\n",
        "l3 = list(np.arange(0.001,0.01,0.001))\n",
        "l4 = list(np.arange(0.0001,0.001,0.0005))\n",
        "l5 = list(np.arange(0.00001,0.0001,0.00005))\n",
        "space = {'variance_limit': hp.choice('variance_limit', list(itertools.chain(l3, l4, l5)))}\n",
        "\n",
        "trials = Trials()\n",
        "best = fmin(clustering_objective, space, algo=tpe.suggest, max_evals=300, trials=trials)\n",
        "print('best: ')\n",
        "print(space_eval(space, best))"
      ],
      "execution_count": 0,
      "outputs": []
    },
    {
      "cell_type": "markdown",
      "metadata": {
        "id": "a87fq7DWH5Bj",
        "colab_type": "text"
      },
      "source": [
        "### DenStream"
      ]
    },
    {
      "cell_type": "code",
      "metadata": {
        "id": "n1VmboMBH7LR",
        "colab_type": "code",
        "colab": {}
      },
      "source": [
        "lambdas = [0.001, 0.01, 0.1, 0.25, 0.5 , 1]\n",
        "epsilons = [0.01, 0.1, 1, 10, 20]\n",
        "mus = [2, 3, 4, 8, 10, 15, 20]\n",
        "betas = [0.001, 0.01, 0.1, 0.4, 0.5, 0.6, 1, 2]"
      ],
      "execution_count": 0,
      "outputs": []
    },
    {
      "cell_type": "code",
      "metadata": {
        "id": "9HDLMvv4IAbf",
        "colab_type": "code",
        "colab": {}
      },
      "source": [
        "tuning_df = pd.DataFrame(columns=['Lambda', 'Epsilon', 'Mu', 'Beta', 'Error'])\n",
        "\n",
        "for lambd in lambdas:\n",
        "  for epsilon in epsilons:\n",
        "    for mu in mus:\n",
        "      for beta in betas:\n",
        "        print(\"Parameters: lambda=\",lambd, \" eps=\",epsilon, \" mu=\",mu, \" beta=\", beta)\n",
        "        try:\n",
        "          denstream_model = DenStream(lambd=lambd, eps=epsilon, beta=beta, mu=mu)\n",
        "          error = fit_predict(denstream_model, X, y, tuning_size, adjusted_rand_score)\n",
        "          tuning_df = tuning_df.append({'Lambda': lambd, 'Epsilon': epsilon, 'Mu': mu, 'Beta': beta, 'Error': error}, ignore_index=True)\n",
        "        except Exception as e:\n",
        "          #logging.exception(\"Erro nos parametros!\")\n",
        "          print(\"Erro nos parametros: \",e)"
      ],
      "execution_count": 0,
      "outputs": []
    },
    {
      "cell_type": "code",
      "metadata": {
        "id": "bFNGGqixIDgj",
        "colab_type": "code",
        "colab": {}
      },
      "source": [
        "denstream_best_result = tuning_df.sort_values(by=['Error']).loc[tuning_df['Error'] > 0].iloc[-1]\n",
        "denstream_best_lambda = denstream_best_result.Lambda\n",
        "denstream_best_eps = denstream_best_result.Epsilon\n",
        "denstream_best_mu = denstream_best_result.Mu\n",
        "denstream_best_beta = denstream_best_result.Beta"
      ],
      "execution_count": 0,
      "outputs": []
    },
    {
      "cell_type": "code",
      "metadata": {
        "id": "eFkVYOhVfXSo",
        "colab_type": "code",
        "colab": {}
      },
      "source": [
        "del denstream_model\n",
        "del denstream_best_result\n",
        "del tuning_df"
      ],
      "execution_count": 0,
      "outputs": []
    },
    {
      "cell_type": "markdown",
      "metadata": {
        "id": "elSLFV3eIEnS",
        "colab_type": "text"
      },
      "source": [
        "### CluStream"
      ]
    },
    {
      "cell_type": "code",
      "metadata": {
        "id": "6My9u2TvIG7b",
        "colab_type": "code",
        "colab": {}
      },
      "source": [
        "microclusters = [10, 100, 200, 300, 400, 500]\n",
        "horizons = [10, 100, 500, 1000]\n",
        "ts = [1,2,4,8, 10, 20]"
      ],
      "execution_count": 0,
      "outputs": []
    },
    {
      "cell_type": "code",
      "metadata": {
        "id": "AAHCicqOIJqL",
        "colab_type": "code",
        "colab": {}
      },
      "source": [
        "clustream_tuning_df = pd.DataFrame(columns=['MC', 'Horizon', 'RadiusFactor', 'Error'])\n",
        "\n",
        "for mc in microclusters:\n",
        "  for h in horizons:\n",
        "    for t in ts:\n",
        "      print(\"Parameters: MC=\",mc, \" Horizon=\",h, \" Radius=\", t)\n",
        "      try:\n",
        "        clustream_model = CluStream(q=mc, m=mc, radius_factor = t, delta=h, k=5, init_number=100)\n",
        "        error = fit_predict(clustream_model, X, y, tuning_size, adjusted_rand_score)\n",
        "        clustream_tuning_df = clustream_tuning_df.append({'MC': mc, 'Horizon': h, 'RadiusFactor': t, 'Error': error}, ignore_index=True)\n",
        "      except:\n",
        "        print(\"Error in parameter configuration\")"
      ],
      "execution_count": 0,
      "outputs": []
    },
    {
      "cell_type": "code",
      "metadata": {
        "id": "YyKkfEz9IMXf",
        "colab_type": "code",
        "colab": {}
      },
      "source": [
        "clustream_best_result = clustream_tuning_df.sort_values(by=['Error']).loc[clustream_tuning_df['Error'] > 0].iloc[-1]\n",
        "clustream_best_mc = int(clustream_best_result.MC)\n",
        "clustream_best_horizon = int(clustream_best_result.Horizon)\n",
        "clustream_best_radius = clustream_best_result.RadiusFactor"
      ],
      "execution_count": 0,
      "outputs": []
    },
    {
      "cell_type": "code",
      "metadata": {
        "id": "l-ZeN_EKf26-",
        "colab_type": "code",
        "colab": {}
      },
      "source": [
        "del clustream_model\n",
        "del clustream_best_result\n",
        "del clustream_tuning_df"
      ],
      "execution_count": 0,
      "outputs": []
    },
    {
      "cell_type": "markdown",
      "metadata": {
        "id": "1Dm_mUxPIOIg",
        "colab_type": "text"
      },
      "source": [
        "## Run Optimized Models"
      ]
    },
    {
      "cell_type": "code",
      "metadata": {
        "id": "J1_F9Whmg7sm",
        "colab_type": "code",
        "colab": {}
      },
      "source": [
        "import os\n",
        "import psutil"
      ],
      "execution_count": 0,
      "outputs": []
    },
    {
      "cell_type": "markdown",
      "metadata": {
        "id": "v_-O1TjvhGQ9",
        "colab_type": "text"
      },
      "source": [
        "### Get Memory Usage before the execution"
      ]
    },
    {
      "cell_type": "code",
      "metadata": {
        "id": "lkBtEzcdgyKM",
        "colab_type": "code",
        "colab": {}
      },
      "source": [
        "process = psutil.Process(os.getpid())\n",
        "base_memory_usage = process.memory_info().rss / (2 ** 20) # memory consumption in MB (function returns value in bytes)"
      ],
      "execution_count": 0,
      "outputs": []
    },
    {
      "cell_type": "code",
      "metadata": {
        "id": "YroDs4aV3Plk",
        "colab_type": "code",
        "colab": {}
      },
      "source": [
        "base_memory_usage"
      ],
      "execution_count": 0,
      "outputs": []
    },
    {
      "cell_type": "markdown",
      "metadata": {
        "id": "lmpGid6TkABK",
        "colab_type": "text"
      },
      "source": [
        "### Run models"
      ]
    },
    {
      "cell_type": "code",
      "metadata": {
        "id": "ynn_YCvCIRsS",
        "colab_type": "code",
        "colab": {}
      },
      "source": [
        "evol_model = EvolvingClustering.EvolvingClustering(variance_limit=0.0001, decay=1000, debug=True)\n",
        "evolving_results = Benchmarks.prequential_evaluation(evol_model, X, y, adjusted_rand_score, train_size, window_size, elapsed_time=True)"
      ],
      "execution_count": 0,
      "outputs": []
    },
    {
      "cell_type": "code",
      "metadata": {
        "id": "IBgqRdaoQ_94",
        "colab_type": "code",
        "colab": {}
      },
      "source": [
        "denstream_model = DenStream(lambd=denstream_best_lambda, eps=denstream_best_eps, mu=denstream_best_mu, beta=denstream_best_beta)\n",
        "denstream_results = Benchmarks.prequential_evaluation(denstream_model, X, y, adjusted_rand_score, train_size, window_size, elapsed_time=True)"
      ],
      "execution_count": 0,
      "outputs": []
    },
    {
      "cell_type": "code",
      "metadata": {
        "id": "CcmYviBVRDL1",
        "colab_type": "code",
        "colab": {}
      },
      "source": [
        "clustream_model = CluStream(q=clustream_best_mc, m=clustream_best_mc, radius_factor = clustream_best_radius, delta=clustream_best_horizon, k=5, init_number=100)\n",
        "clustream_results = Benchmarks.prequential_evaluation(clustream_model, X, y, adjusted_rand_score, train_size, window_size, elapsed_time=True)"
      ],
      "execution_count": 0,
      "outputs": []
    },
    {
      "cell_type": "markdown",
      "metadata": {
        "id": "K_7LsJJcRWPT",
        "colab_type": "text"
      },
      "source": [
        "### Plot Results"
      ]
    },
    {
      "cell_type": "markdown",
      "metadata": {
        "id": "PU3KumepRa3W",
        "colab_type": "text"
      },
      "source": [
        "### Memory Consumption vs Samples"
      ]
    },
    {
      "cell_type": "code",
      "metadata": {
        "id": "_LJByiu7RYUP",
        "colab_type": "code",
        "colab": {}
      },
      "source": [
        "fig = plt.figure(figsize=(14,6))\n",
        "\n",
        "windows = np.arange(train_size+window_size,len(X)+window_size,window_size)\n",
        "#plt.plot(windows,denstream_results['memory_usage_list'],'o-', color='blue',label='DenStream')\n",
        "plt.plot(windows,evolving_results['memory_usage_list'],'o-', color='orange',label='microTEDAclus')\n",
        "#plt.plot(windows,clustream_results['memory_usage_list'],'o-', color='green',label='CluStream')\n",
        "\n",
        "plt.xlabel('Samples')\n",
        "plt.ylabel('Memory Consumption (MB)')\n",
        "plt.legend()\n",
        "plt.show()"
      ],
      "execution_count": 0,
      "outputs": []
    },
    {
      "cell_type": "markdown",
      "metadata": {
        "id": "G9lF536gRvPL",
        "colab_type": "text"
      },
      "source": [
        "### Adjusted Rand vs Samples"
      ]
    },
    {
      "cell_type": "code",
      "metadata": {
        "id": "Om5mno7xRyeA",
        "colab_type": "code",
        "colab": {}
      },
      "source": [
        "fig = plt.figure(figsize=(18,6))\n",
        "\n",
        "windows = np.arange(train_size+window_size,len(X)+window_size,window_size)\n",
        "#plt.plot(windows,denstream_results['error_list'],'o-', color='blue',label='DenStream')\n",
        "plt.plot(windows,evolving_results['error_list'],'o-', color='orange',label='microTEDAclus')\n",
        "#plt.plot(windows,clustream_results['error_list'],'o-', color='green',label='CluStream')\n",
        "\n",
        "plt.xlabel('Samples')\n",
        "plt.ylabel('Adj Rand Index')\n",
        "plt.legend()\n",
        "plt.show()"
      ],
      "execution_count": 0,
      "outputs": []
    },
    {
      "cell_type": "markdown",
      "metadata": {
        "id": "pGi2RoFjSIcL",
        "colab_type": "text"
      },
      "source": [
        "### Save results to csv"
      ]
    },
    {
      "cell_type": "code",
      "metadata": {
        "id": "OoMEH_vASOj2",
        "colab_type": "code",
        "colab": {}
      },
      "source": [
        "from google.colab import files"
      ],
      "execution_count": 0,
      "outputs": []
    },
    {
      "cell_type": "code",
      "metadata": {
        "id": "VnWcAiOL1ken",
        "colab_type": "code",
        "colab": {}
      },
      "source": [
        "memory_usage = [((m * 1000) / (2 ** 20)) - base_memory_usage for m in evolving_results['memory_usage_list']]\n",
        "evolving_results_df = pd.DataFrame({'Memory': memory_usage, 'cRand': evolving_results['error_list'], 'Time': evolving_results['elapsed_time_list']})\n",
        "evolving_results_df.to_csv(path + exp_name + \"_memory_usage_evolving.csv\") "
      ],
      "execution_count": 0,
      "outputs": []
    },
    {
      "cell_type": "code",
      "metadata": {
        "id": "Du5dnoVVPE3z",
        "colab_type": "code",
        "colab": {}
      },
      "source": [
        "memory_usage = [((m * 1000) / (2 ** 20)) - base_memory_usage for m in denstream_results['memory_usage_list']]\n",
        "denstream_results_df = pd.DataFrame({'Memory': memory_usage, 'cRand': denstream_results['error_list'], 'Time': denstream_results['elapsed_time_list']})\n",
        "denstream_results_df.to_csv(path + exp_name + \"_memory_usage_denstream.csv\") "
      ],
      "execution_count": 0,
      "outputs": []
    },
    {
      "cell_type": "code",
      "metadata": {
        "id": "JFeGvBJaPaRy",
        "colab_type": "code",
        "colab": {}
      },
      "source": [
        "memory_usage = [((m * 1000) / (2 ** 20)) - base_memory_usage for m in clustream_results['memory_usage_list']]\n",
        "clustream_results_df = pd.DataFrame({'Memory': memory_usage, 'cRand': clustream_results['error_list'], 'Time': clustream_results['elapsed_time_list']})\n",
        "clustream_results_df.to_csv(path + exp_name + \"_memory_usage_clustream.csv\") "
      ],
      "execution_count": 0,
      "outputs": []
    }
  ]
}
