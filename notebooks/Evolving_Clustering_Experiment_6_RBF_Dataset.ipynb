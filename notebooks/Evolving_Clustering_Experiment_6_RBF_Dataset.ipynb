{
  "nbformat": 4,
  "nbformat_minor": 0,
  "metadata": {
    "colab": {
      "name": "Evolving-Clustering_Experiment-6_RBF-Dataset.ipynb",
      "version": "0.3.2",
      "provenance": [],
      "include_colab_link": true
    },
    "kernelspec": {
      "name": "python3",
      "display_name": "Python 3"
    }
  },
  "cells": [
    {
      "cell_type": "markdown",
      "metadata": {
        "id": "view-in-github",
        "colab_type": "text"
      },
      "source": [
        "<a href=\"https://colab.research.google.com/github/cseveriano/evolving_clustering/blob/master/notebooks/Evolving_Clustering_Experiment_6_RBF_Dataset.ipynb\" target=\"_parent\"><img src=\"https://colab.research.google.com/assets/colab-badge.svg\" alt=\"Open In Colab\"/></a>"
      ]
    },
    {
      "cell_type": "markdown",
      "metadata": {
        "id": "CpWSCwBM5AH_",
        "colab_type": "text"
      },
      "source": [
        "## RBF Generator with Events"
      ]
    },
    {
      "cell_type": "markdown",
      "metadata": {
        "id": "4rc7Yfr5VPEv",
        "colab_type": "text"
      },
      "source": [
        "## Mount Results Directory"
      ]
    },
    {
      "cell_type": "code",
      "metadata": {
        "id": "lKynvns2FzaT",
        "colab_type": "code",
        "colab": {}
      },
      "source": [
        "path = \"/content/gdrive/My Drive/Evolving_Results/\"\n",
        "from google.colab import drive\n",
        "drive.mount(\"/content/gdrive\")"
      ],
      "execution_count": 0,
      "outputs": []
    },
    {
      "cell_type": "markdown",
      "metadata": {
        "id": "Dwsd5HA-VUNN",
        "colab_type": "text"
      },
      "source": [
        "## Install Libraries"
      ]
    },
    {
      "cell_type": "code",
      "metadata": {
        "id": "oXB_LxDdIYMa",
        "colab_type": "code",
        "cellView": "both",
        "colab": {}
      },
      "source": [
        "#@title\n",
        "!apt-get update\n",
        "!apt-get install r-base\n",
        "!pip install rpy2\n",
        "!apt-get install libmagick++-dev\n",
        "#!apt-get install r-cran-rjava\n",
        "\n",
        "import os       #importing os to set environment variable\n",
        "def install_java():\n",
        "  !apt-get install -y openjdk-8-jdk-headless -qq > /dev/null      #install openjdk\n",
        "  os.environ[\"JAVA_HOME\"] = \"/usr/lib/jvm/java-8-openjdk-amd64\"     #set environment variable\n",
        "  os.environ[\"LD_LIBRARY_PATH\"] = \"/usr/lib/jvm/java-8-openjdk-amd64/jre/lib/amd64:/usr/lib/jvm/java-8-openjdk-amd64/jre/lib/amd64/server\"\n",
        "  !java -version       #check java version\n",
        "\n",
        "install_java()\n",
        "\n",
        "!R CMD javareconf\n",
        "\n",
        "#!apt-get install r-cran-rjava\n",
        "#!apt-get install libgdal-dev libproj-dev\n",
        "\n",
        "!R -e 'install.packages(c(\"magick\",  \"animation\", \"stream\", \"rJava\", \"streamMOA\"))'"
      ],
      "execution_count": 0,
      "outputs": []
    },
    {
      "cell_type": "markdown",
      "metadata": {
        "id": "grTwiwyyfHpG",
        "colab_type": "text"
      },
      "source": [
        "##Install R Packages"
      ]
    },
    {
      "cell_type": "code",
      "metadata": {
        "id": "JZ3M7YdrJdta",
        "colab_type": "code",
        "colab": {}
      },
      "source": [
        "# enables the %%R magic, not necessary if you've already done this\n",
        "%load_ext rpy2.ipython"
      ],
      "execution_count": 0,
      "outputs": []
    },
    {
      "cell_type": "code",
      "metadata": {
        "id": "_-IHihyWoHup",
        "colab_type": "code",
        "colab": {}
      },
      "source": [
        "%%R\n",
        "dyn.load(\"/usr/lib/jvm/java-8-openjdk-amd64/jre/lib/amd64/server/libjvm.so\")\n",
        "library(\"stream\")\n",
        "library(\"streamMOA\")"
      ],
      "execution_count": 0,
      "outputs": []
    },
    {
      "cell_type": "markdown",
      "metadata": {
        "id": "7-MGTelMfPe-",
        "colab_type": "text"
      },
      "source": [
        "##Generate Concept Drift Data Stream\n",
        "     \n",
        "\n",
        "\n"
      ]
    },
    {
      "cell_type": "code",
      "metadata": {
        "id": "vwG3MW0QpqxH",
        "colab_type": "code",
        "colab": {}
      },
      "source": [
        "# Experiment parameters\n",
        "nclusters = 3\n",
        "nsamples = 10000\n",
        "train_size = 100\n",
        "window_size = 100\n",
        "metric = \"cRand\"\n",
        "trials = 30"
      ],
      "execution_count": 0,
      "outputs": []
    },
    {
      "cell_type": "code",
      "metadata": {
        "id": "QrJi2-mfnZgC",
        "colab_type": "code",
        "colab": {}
      },
      "source": [
        "%%R -i nsamples\n",
        "\n",
        "experiment <- function(nsamples){\n",
        "  gen <- DSD_RandomRBFGeneratorEvents(k = 3, d = 2, numClusterRange = 3L, \n",
        "                             kernelRadius = 0.07, kernelRadiusRange = 0, densityRange = 0, \n",
        "                             speed =100L, speedRange = 0L, noiseLevel = 0,\n",
        "                             noiseInCluster = FALSE, eventFrequency = 1000L,\n",
        "                             eventMergeSplitOption = TRUE, eventDeleteCreate = TRUE, \n",
        "                             modelSeed = NULL, instanceSeed = NULL)\n",
        "\n",
        "  return (get_points(gen, n = nsamples, class = TRUE))\n",
        "}"
      ],
      "execution_count": 0,
      "outputs": []
    },
    {
      "cell_type": "markdown",
      "metadata": {
        "id": "54QGpA4lfcL2",
        "colab_type": "text"
      },
      "source": [
        "##Run Benchmark Models\n",
        "\n",
        "### Benchmark methods:\n",
        "* DenStream\n",
        "* ClusStream\n",
        "* Stream KM++\n",
        "\n",
        "### Benchmark metrics:\n",
        "* cRand\n",
        "\n"
      ]
    },
    {
      "cell_type": "code",
      "metadata": {
        "id": "tnNhT4R3Is31",
        "colab_type": "code",
        "colab": {}
      },
      "source": [
        "%%R\n",
        "run_benchmarks <- function(trial, nsamples, train_size, window_size, metric, eval_data, path){\n",
        "  alg_names <- c(\"DenStream\", \"Clustream\", \"StreamKM\")\n",
        "\n",
        "  algorithms <- list(\"DenStream\" = DSC_DenStream(epsilon=0.01, mu=4, beta=0.2),\n",
        "                     \"Clustream\" = DSC_CluStream(m = 10, horizon = 1000, t = 1, k=NULL),\n",
        "                     \"StreamKM\" = DSC_StreamKM(sizeCoreset = 100, numClusters = 3, length = nsamples)\n",
        "  )\n",
        "  writeLines(sprintf(\"Trial: %d\", trial))\n",
        "    \n",
        "  evaluation <- lapply(algorithms, FUN = function(alg) {\n",
        "    stream <- DSD_Memory(eval_data[,c(\"X1\", \"X2\")], class=eval_data[,\"class\"], k=max(eval_data[,\"class\"]))\n",
        "\n",
        "    update(alg, stream, n=train_size)\n",
        "    evaluate_cluster(alg, stream, horizon = window_size, n = nsamples - train_size, measure = metric,\n",
        "                     type = \"macro\", assign = \"macro\")\n",
        "  })\n",
        "    \n",
        "  Position <- evaluation[[1]][,\"points\"]\n",
        "  errors <- as.data.frame(sapply(evaluation, FUN = function(x) x[,metric]))\n",
        "  write.csv(errors, paste0(path,sprintf(\"results_6_%02d_benchmark.csv\",trial)))\n",
        "    \n",
        "}"
      ],
      "execution_count": 0,
      "outputs": []
    },
    {
      "cell_type": "markdown",
      "metadata": {
        "id": "B2iDmN4FfohR",
        "colab_type": "text"
      },
      "source": [
        "##Run Evolving Clustering\n",
        "\n",
        "* Convert to X,y format\n",
        "* run prequential routine\n",
        "* plot results"
      ]
    },
    {
      "cell_type": "code",
      "metadata": {
        "id": "gGk8irjC8L--",
        "colab_type": "code",
        "colab": {}
      },
      "source": [
        "!pip install -U git+https://github.com/cseveriano/evolving_clustering"
      ],
      "execution_count": 0,
      "outputs": []
    },
    {
      "cell_type": "code",
      "metadata": {
        "id": "Hv-0SAbz71-c",
        "colab_type": "code",
        "colab": {}
      },
      "source": [
        "import pandas as pd\n",
        "import numpy as np\n",
        "import matplotlib.pyplot as plt\n",
        "from evolving import EvolvingClustering, load_dataset, Metrics, Benchmarks, util\n",
        "from sklearn.metrics import adjusted_rand_score\n",
        "import time\n",
        "import rpy2.robjects as robjects\n",
        "from rpy2.robjects import pandas2ri\n",
        "pandas2ri.activate()\n",
        "r = robjects.r"
      ],
      "execution_count": 0,
      "outputs": []
    },
    {
      "cell_type": "code",
      "metadata": {
        "id": "VUyKHFq97OuI",
        "colab_type": "code",
        "colab": {}
      },
      "source": [
        "evol_trials_df = pd.DataFrame()\n",
        "\n",
        "for i in np.arange(trials):\n",
        "  named_tuple = time.localtime() # get struct_time\n",
        "  time_string = time.strftime(\"%m/%d/%Y, %H:%M:%S\", named_tuple)\n",
        "  print(\"Trial: \",i,\" at \",time_string)\n",
        "\n",
        "  stream_df = pandas2ri.ri2py_dataframe(r.experiment(nsamples))\n",
        "  \n",
        "  print(\"Running benchmarks\")\n",
        "  r.run_benchmarks(i, nsamples, train_size, window_size, metric, stream_df, path)\n",
        "  \n",
        "  X = stream_df[['X1', 'X2']].values\n",
        "  y = stream_df['class'].values\n",
        "  evol_model = EvolvingClustering.EvolvingClustering(macro_cluster_update=1,  variance_limit=0.001, debug=False)\n",
        "  accum_error, error_list = Benchmarks.prequential_evaluation(evol_model, X, y, adjusted_rand_score, train_size, window_size)\n",
        "  evol_trials_df[\"Trial-\"+str(i)] = error_list\n",
        "  evol_trials_df.to_csv(path+'results_6_evolving.csv')\n",
        "  print(\"Error: \", np.mean(error_list))"
      ],
      "execution_count": 0,
      "outputs": []
    }
  ]
}