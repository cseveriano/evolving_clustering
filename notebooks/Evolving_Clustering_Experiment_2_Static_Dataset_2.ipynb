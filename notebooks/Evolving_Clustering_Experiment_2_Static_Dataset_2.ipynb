{
  "nbformat": 4,
  "nbformat_minor": 0,
  "metadata": {
    "colab": {
      "name": "Evolving-Clustering-Experiment-2-Static-Dataset-2.ipynb",
      "version": "0.3.2",
      "provenance": [],
      "include_colab_link": true
    },
    "kernelspec": {
      "name": "python3",
      "display_name": "Python 3"
    }
  },
  "cells": [
    {
      "cell_type": "markdown",
      "metadata": {
        "id": "view-in-github",
        "colab_type": "text"
      },
      "source": [
        "<a href=\"https://colab.research.google.com/github/cseveriano/evolving_clustering/blob/master/notebooks/Evolving_Clustering_Experiment_2_Static_Dataset_2.ipynb\" target=\"_parent\"><img src=\"https://colab.research.google.com/assets/colab-badge.svg\" alt=\"Open In Colab\"/></a>"
      ]
    },
    {
      "cell_type": "markdown",
      "metadata": {
        "id": "Wg1XUKA_R0QW",
        "colab_type": "text"
      },
      "source": [
        "## Mount Results Directory"
      ]
    },
    {
      "cell_type": "code",
      "metadata": {
        "id": "lKynvns2FzaT",
        "colab_type": "code",
        "colab": {}
      },
      "source": [
        "path = \"/content/gdrive/My Drive/Evolving_Results/\"\n",
        "from google.colab import drive\n",
        "drive.mount(\"/content/gdrive\")"
      ],
      "execution_count": 0,
      "outputs": []
    },
    {
      "cell_type": "markdown",
      "metadata": {
        "id": "76K9JmsrSAu3",
        "colab_type": "text"
      },
      "source": [
        "## Install Libraries"
      ]
    },
    {
      "cell_type": "code",
      "metadata": {
        "colab_type": "code",
        "cellView": "both",
        "id": "4fB7iiO4qvqY",
        "colab": {}
      },
      "source": [
        "#@title\n",
        "!apt-get update\n",
        "!apt-get install r-base\n",
        "!pip install rpy2\n",
        "!apt-get install libmagick++-dev\n",
        "#!apt-get install r-cran-rjava\n",
        "\n",
        "import os       #importing os to set environment variable\n",
        "def install_java():\n",
        "  !apt-get install -y openjdk-8-jdk-headless -qq > /dev/null      #install openjdk\n",
        "  os.environ[\"JAVA_HOME\"] = \"/usr/lib/jvm/java-8-openjdk-amd64\"     #set environment variable\n",
        "  os.environ[\"LD_LIBRARY_PATH\"] = \"/usr/lib/jvm/java-8-openjdk-amd64/jre/lib/amd64:/usr/lib/jvm/java-8-openjdk-amd64/jre/lib/amd64/server\"\n",
        "  !java -version       #check java version\n",
        "\n",
        "install_java()\n",
        "\n",
        "!R CMD javareconf\n",
        "\n",
        "#!apt-get install r-cran-rjava\n",
        "#!apt-get install libgdal-dev libproj-dev\n",
        "\n",
        "!R -e 'install.packages(c(\"magick\",  \"animation\", \"stream\", \"rJava\", \"streamMOA\"))'"
      ],
      "execution_count": 0,
      "outputs": []
    },
    {
      "cell_type": "markdown",
      "metadata": {
        "colab_type": "text",
        "id": "USb2KES7qvqf"
      },
      "source": [
        "##Install R Packages"
      ]
    },
    {
      "cell_type": "code",
      "metadata": {
        "colab_type": "code",
        "id": "I0ekyA9bqvqh",
        "colab": {}
      },
      "source": [
        "# enables the %%R magic, not necessary if you've already done this\n",
        "%load_ext rpy2.ipython"
      ],
      "execution_count": 0,
      "outputs": []
    },
    {
      "cell_type": "code",
      "metadata": {
        "colab_type": "code",
        "id": "0OEaC7mNqvqk",
        "colab": {}
      },
      "source": [
        "%%R\n",
        "dyn.load(\"/usr/lib/jvm/java-8-openjdk-amd64/jre/lib/amd64/server/libjvm.so\")\n",
        "library(\"stream\")\n",
        "library(\"streamMOA\")"
      ],
      "execution_count": 0,
      "outputs": []
    },
    {
      "cell_type": "markdown",
      "metadata": {
        "colab_type": "text",
        "id": "9IcAjfliqvqo"
      },
      "source": [
        "##Read Data Stream\n",
        "     \n",
        "\n",
        "\n"
      ]
    },
    {
      "cell_type": "code",
      "metadata": {
        "colab_type": "code",
        "id": "x-8ehC-vqvqp",
        "colab": {}
      },
      "source": [
        "%%R\n",
        "experiment <- function(){\n",
        "  df <- read.csv(\"https://query.data.world/s/zry3yzt4ruwrlonziw2pfkegsdugw2\", header=TRUE, stringsAsFactors=FALSE);\n",
        "  nsamples <- nrow(df)\n",
        "  df <- df[sample(nsamples),]\n",
        "  stream <- DSD_Memory(df[,c(\"x\", \"y\")], class=df[,\"class\"], k=max(df[,\"class\"]))\n",
        "  return (get_points(stream, n = nsamples, class = TRUE))\n",
        "}"
      ],
      "execution_count": 0,
      "outputs": []
    },
    {
      "cell_type": "markdown",
      "metadata": {
        "colab_type": "text",
        "id": "t1nqh3j-qvqx"
      },
      "source": [
        "##Run Benchmark Models\n",
        "\n",
        "### Benchmark methods:\n",
        "* DenStream\n",
        "* ClusStream\n",
        "* Stream KM++\n",
        "\n",
        "### Benchmark metrics:\n",
        "* cRand\n",
        "\n"
      ]
    },
    {
      "cell_type": "code",
      "metadata": {
        "colab_type": "code",
        "id": "KhJqTP_Sqvqy",
        "colab": {}
      },
      "source": [
        "# Experiment parameters\n",
        "nclusters = 8\n",
        "metric = \"cRand\"\n",
        "trials = 30"
      ],
      "execution_count": 0,
      "outputs": []
    },
    {
      "cell_type": "code",
      "metadata": {
        "colab_type": "code",
        "id": "YFXp5kaZqvq8",
        "colab": {}
      },
      "source": [
        "%%R -i metric -i trials -i path -i nclusters\n",
        "\n",
        "alg_names <- c(\"DenStream\", \"Clustream\", \"StreamKM\")\n",
        "trials_df <- data.frame(matrix(ncol = length(alg_names), nrow = 0))\n",
        "colnames(trials_df) <- alg_names\n",
        "\n",
        "for (i in 1:(trials)){\n",
        "  algorithms <- list(\"DenStream\" = DSC_DenStream(epsilon=0.1, mu=19, beta=0.4),\n",
        "                     \"Clustream\" = DSC_CluStream(m = 10, horizon = 100, t = 1, k=NULL),\n",
        "                     \"StreamKM\" = DSC_StreamKM(sizeCoreset = 100, numClusters = nclusters)\n",
        "  )\n",
        "  writeLines(sprintf(\"Trial: %d\", i))\n",
        "    \n",
        "  evaluation <- sapply(algorithms, FUN = function(alg) {\n",
        "    \n",
        "    df <- read.csv(\"https://query.data.world/s/zry3yzt4ruwrlonziw2pfkegsdugw2\", header=TRUE, stringsAsFactors=FALSE);\n",
        "    nsamples <- nrow(df)\n",
        "    df <- df[sample(nsamples),]\n",
        "    stream <- DSD_Memory(df[,c(\"x\", \"y\")], class=df[,\"class\"], k=max(df[,\"class\"]))\n",
        "    update(alg, stream, n=nsamples)\n",
        "    reset_stream(stream)\n",
        "    evaluate(alg, stream, measure = (), n = nsamples, type = \"macro\", assign = \"macro\")\n",
        "  })\n",
        "    \n",
        "  trials_df[nrow(trials_df) + 1,] = as.data.frame(evaluation)[,'evaluation']\n",
        "}\n",
        "\n",
        "write.csv(trials_df, paste0(path,\"results_DS4_benchmark.csv\"))"
      ],
      "execution_count": 0,
      "outputs": []
    },
    {
      "cell_type": "markdown",
      "metadata": {
        "colab_type": "text",
        "id": "IrW6hxL2qvrG"
      },
      "source": [
        "##Run Evolving Clustering\n",
        "\n",
        "* Convert to X,y format\n",
        "* run prequential routine\n",
        "* plot results"
      ]
    },
    {
      "cell_type": "code",
      "metadata": {
        "colab_type": "code",
        "id": "GQN8GerDqvrG",
        "colab": {}
      },
      "source": [
        "!pip install -U git+https://github.com/cseveriano/evolving_clustering"
      ],
      "execution_count": 0,
      "outputs": []
    },
    {
      "cell_type": "code",
      "metadata": {
        "colab_type": "code",
        "id": "zkPU7anLqvrJ",
        "colab": {}
      },
      "source": [
        "import pandas as pd\n",
        "import numpy as np\n",
        "import matplotlib.pyplot as plt\n",
        "from evolving import EvolvingClustering, load_dataset, Metrics, Benchmarks, util\n",
        "from sklearn.metrics import adjusted_rand_score\n",
        "import time\n",
        "import rpy2.robjects as robjects\n",
        "from rpy2.robjects import pandas2ri\n",
        "pandas2ri.activate()\n",
        "r = robjects.r"
      ],
      "execution_count": 0,
      "outputs": []
    },
    {
      "cell_type": "code",
      "metadata": {
        "colab_type": "code",
        "id": "Z3SHLq_FqvrV",
        "colab": {}
      },
      "source": [
        "evol_trials_df = pd.DataFrame(columns=[\"microTEDAclus\"])\n",
        "\n",
        "for i in np.arange(trials):\n",
        "\n",
        "  named_tuple = time.localtime() # get struct_time\n",
        "  time_string = time.strftime(\"%m/%d/%Y, %H:%M:%S\", named_tuple)\n",
        "  print(\"Trial: \",i ,\" at \",time_string)\n",
        "\n",
        "  stream_df = pandas2ri.ri2py_dataframe(r.experiment())\n",
        "  X = stream_df[['x', 'y']].values\n",
        "  y = stream_df['class'].values\n",
        "  evol_model = EvolvingClustering.EvolvingClustering(variance_limit=0.0008, debug=False)\n",
        "\n",
        "  evol_model.fit(X)\n",
        "  y_hat = evol_model.predict(X)\n",
        "\n",
        "  error = adjusted_rand_score(y, y_hat)\n",
        "  evol_trials_df = evol_trials_df.append({'microTEDAclus': error}, ignore_index=True)\n",
        "  evol_trials_df.to_csv(path+'results_DS4_evolving.csv', index=False)"
      ],
      "execution_count": 0,
      "outputs": []
    }
  ]
}